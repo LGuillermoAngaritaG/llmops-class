{
 "cells": [
  {
   "cell_type": "markdown",
   "metadata": {},
   "source": [
    "# YouTube Video Summarizer using Groq\n",
    "\n",
    "This notebook demonstrates how to create a YouTube video summarizer that:\n",
    "1. Takes a YouTube URL as input\n",
    "2. Extracts the video's transcription\n",
    "3. Uses Groq to generate a concise summary\n",
    "\n",
    "## Setup and Requirements\n",
    "First, we'll install the required packages:"
   ]
  },
  {
   "cell_type": "code",
   "execution_count": null,
   "metadata": {},
   "source": [
    "!pip install youtube-transcript-api groq python-dotenv"
   ]
  },
  {
   "cell_type": "markdown",
   "metadata": {},
   "source": [
    "## Import Required Libraries"
   ]
  },
  {
   "cell_type": "code",
   "execution_count": null,
   "metadata": {},
   "source": [
    "from youtube_transcript_api import YouTubeTranscriptApi\n",
    "import groq\n",
    "import os\n",
    "from dotenv import load_dotenv\n",
    "from urllib.parse import urlparse, parse_qs\n",
    "\n",
    "# Load environment variables\n",
    "load_dotenv()\n",
    "\n",
    "# Initialize Groq client\n",
    "client = groq.Groq(\n",
    "    api_key=os.getenv('GROQ_API_KEY')\n",
    ")"
   ]
  },
  {
   "cell_type": "markdown",
   "metadata": {},
   "source": [
    "## Helper Functions"
   ]
  },
  {
   "cell_type": "code",
   "execution_count": null,
   "metadata": {},
   "source": [
    "def extract_video_id(url):\n",
    "    \"\"\"Extract YouTube video ID from URL\"\"\"\n",
    "    parsed_url = urlparse(url)\n",
    "    if parsed_url.hostname == 'youtu.be':\n",
    "        return parsed_url.path[1:]\n",
    "    if parsed_url.hostname in ('www.youtube.com', 'youtube.com'):\n",
    "        if parsed_url.path == '/watch':\n",
    "            return parse_qs(parsed_url.query)['v'][0]\n",
    "    return None\n",
    "\n",
    "def get_transcript(video_id):\n",
    "    \"\"\"Get transcript for a YouTube video\"\"\"\n",
    "    try:\n",
    "        transcript_list = YouTubeTranscriptApi.get_transcript(video_id)\n",
    "        return ' '.join([t['text'] for t in transcript_list])\n",
    "    except Exception as e:\n",
    "        print(f\"Error getting transcript: {e}\")\n",
    "        return None\n",
    "\n",
    "def summarize_text(text):\n",
    "    \"\"\"Summarize text using Groq\"\"\"\n",
    "    prompt = f\"\"\"Please provide a comprehensive summary of the following video transcript. \n",
    "    Focus on the main points, key insights, and important conclusions:\n",
    "\n",
    "    {text}\n",
    "\n",
    "    Please structure the summary with:\n",
    "    1. Main Topic/Theme\n",
    "    2. Key Points\n",
    "    3. Important Details\n",
    "    4. Conclusions\"\"\"\n",
    "\n",
    "    try:\n",
    "        completion = client.chat.completions.create(\n",
    "            model=\"mixtral-8x7b-32768\",\n",
    "            messages=[\n",
    "                {\"role\": \"user\", \"content\": prompt}\n",
    "            ],\n",
    "            temperature=0.3,\n",
    "            max_tokens=2048\n",
    "        )\n",
    "        return completion.choices[0].message.content\n",
    "    except Exception as e:\n",
    "        print(f\"Error in summarization: {e}\")\n",
    "        return None"
   ]
  },
  {
   "cell_type": "markdown",
   "metadata": {},
   "source": [
    "## Main Function to Summarize YouTube Video"
   ]
  },
  {
   "cell_type": "code",
   "execution_count": null,
   "metadata": {},
   "source": [
    "def summarize_youtube_video(url):\n",
    "    \"\"\"Main function to summarize a YouTube video\"\"\"\n",
    "    # Extract video ID\n",
    "    video_id = extract_video_id(url)\n",
    "    if not video_id:\n",
    "        return \"Invalid YouTube URL\"\n",
    "    \n",
    "    # Get transcript\n",
    "    transcript = get_transcript(video_id)\n",
    "    if not transcript:\n",
    "        return \"Could not retrieve transcript\"\n",
    "    \n",
    "    # Generate summary\n",
    "    summary = summarize_text(transcript)\n",
    "    if not summary:\n",
    "        return \"Could not generate summary\"\n",
    "    \n",
    "    return summary"
   ]
  },
  {
   "cell_type": "markdown",
   "metadata": {},
   "source": [
    "## Example Usage\n",
    "\n",
    "To use this summarizer, you'll need to:\n",
    "1. Create a `.env` file in the same directory as this notebook\n",
    "2. Add your Groq API key to the `.env` file: `GROQ_API_KEY=your_api_key_here`\n",
    "\n",
    "Then you can use the summarizer as shown below:"
   ]
  },
  {
   "cell_type": "code",
   "execution_count": null,
   "metadata": {},
   "source": [
    "# Example usage\n",
    "youtube_url = \"https://www.youtube.com/watch?v=your_video_id\"\n",
    "summary = summarize_youtube_video(youtube_url)\n",
    "print(summary)"
   ]
  }
 ],
 "metadata": {
  "kernelspec": {
   "display_name": "Python 3",
   "language": "python",
   "name": "python3"
  },
  "language_info": {
   "codemirror_mode": {
    "name": "ipython",
    "version": 3
   },
   "file_extension": ".py",
   "mimetype": "text/x-python",
   "name": "python",
   "nbconvert_exporter": "python",
   "pygments_lexer": "ipython3",
   "version": "3.8.0"
  }
 },
 "nbformat": 4,
 "nbformat_minor": 4
}
