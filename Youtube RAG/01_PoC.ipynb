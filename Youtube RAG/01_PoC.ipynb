{
 "cells": [
  {
   "cell_type": "markdown",
   "metadata": {},
   "source": [
    "# YouTube RAG System\n",
    "\n",
    "This notebook demonstrates a Proof of Concept for creating a RAG system using YouTube video transcripts. The system will:\n",
    "1. Extract transcripts from provided YouTube videos\n",
    "2. Process and chunk the transcripts\n",
    "3. Store them in a ChromaDB vector database\n",
    "4. Enable question-answering using the stored knowledge"
   ]
  },
  {
   "cell_type": "code",
   "execution_count": null,
   "metadata": {},
   "source": [
    "import os\n",
    "from typing import List\n",
    "from youtube_transcript_api import YouTubeTranscriptApi\n",
    "from langchain.text_splitter import RecursiveCharacterTextSplitter\n",
    "from langchain.embeddings import OpenAIEmbeddings\n",
    "from langchain.vectorstores import Chroma\n",
    "from langchain.chat_models import ChatOpenAI\n",
    "from langchain.chains import RetrievalQA\n",
    "from dotenv import load_dotenv\n",
    "import pandas as pd\n",
    "from urllib.parse import urlparse, parse_qs"
   ]
  },
  {
   "cell_type": "code",
   "execution_count": null,
   "metadata": {},
   "source": [
    "# Load environment variables (make sure to create a .env file with your OPENAI_API_KEY)\n",
    "load_dotenv()\n",
    "\n",
    "# Initialize OpenAI embeddings\n",
    "embeddings = OpenAIEmbeddings()"
   ]
  },
  {
   "cell_type": "code",
   "execution_count": null,
   "metadata": {},
   "source": [
    "def extract_video_id(url: str) -> str:\n",
    "    \"\"\"Extract YouTube video ID from URL\"\"\"\n",
    "    parsed_url = urlparse(url)\n",
    "    if parsed_url.hostname == 'youtu.be':\n",
    "        return parsed_url.path[1:]\n",
    "    if parsed_url.hostname in ('www.youtube.com', 'youtube.com'):\n",
    "        if parsed_url.path == '/watch':\n",
    "            return parse_qs(parsed_url.query)['v'][0]\n",
    "    raise ValueError(f'Invalid YouTube URL: {url}')\n",
    "\n",
    "def get_transcript(video_id: str) -> str:\n",
    "    \"\"\"Get transcript for a YouTube video\"\"\"\n",
    "    try:\n",
    "        transcript_list = YouTubeTranscriptApi.get_transcript(video_id)\n",
    "        return ' '.join([t['text'] for t in transcript_list])\n",
    "    except Exception as e:\n",
    "        print(f\"Error getting transcript for video {video_id}: {str(e)}\")\n",
    "        return \"\"\n",
    "\n",
    "def process_videos(urls: List[str]) -> List[dict]:\n",
    "    \"\"\"Process multiple YouTube videos and return their transcripts\"\"\"\n",
    "    documents = []\n",
    "    for url in urls:\n",
    "        video_id = extract_video_id(url)\n",
    "        transcript = get_transcript(video_id)\n",
    "        if transcript:\n",
    "            documents.append({\n",
    "                'video_id': video_id,\n",
    "                'url': url,\n",
    "                'content': transcript\n",
    "            })\n",
    "    return documents"
   ]
  },
  {
   "cell_type": "code",
   "execution_count": null,
   "metadata": {},
   "source": [
    "# Example usage - replace with your YouTube URLs\n",
    "youtube_urls = [\n",
    "    \"https://www.youtube.com/watch?v=example1\",\n",
    "    \"https://www.youtube.com/watch?v=example2\"\n",
    "]\n",
    "\n",
    "# Process videos\n",
    "documents = process_videos(youtube_urls)\n",
    "\n",
    "# Create text splitter\n",
    "text_splitter = RecursiveCharacterTextSplitter(\n",
    "    chunk_size=1000,\n",
    "    chunk_overlap=200,\n",
    "    length_function=len\n",
    ")"
   ]
  },
  {
   "cell_type": "code",
   "execution_count": null,
   "metadata": {},
   "source": [
    "# Process and store documents in ChromaDB\n",
    "chunks = []\n",
    "metadatas = []\n",
    "\n",
    "for doc in documents:\n",
    "    doc_chunks = text_splitter.split_text(doc['content'])\n",
    "    doc_metadatas = [{\n",
    "        'video_id': doc['video_id'],\n",
    "        'url': doc['url'],\n",
    "        'chunk': i\n",
    "    } for i in range(len(doc_chunks))]\n",
    "    \n",
    "    chunks.extend(doc_chunks)\n",
    "    metadatas.extend(doc_metadatas)\n",
    "\n",
    "# Create and persist vector store\n",
    "vectorstore = Chroma.from_texts(\n",
    "    texts=chunks,\n",
    "    embedding=embeddings,\n",
    "    metadatas=metadatas,\n",
    "    persist_directory=\"./chroma_db\"\n",
    ")\n",
    "vectorstore.persist()"
   ]
  },
  {
   "cell_type": "code",
   "execution_count": null,
   "metadata": {},
   "source": [
    "# Create QA chain\n",
    "qa_chain = RetrievalQA.from_chain_type(\n",
    "    llm=ChatOpenAI(temperature=0),\n",
    "    chain_type=\"stuff\",\n",
    "    retriever=vectorstore.as_retriever(search_kwargs={\"k\": 3}),\n",
    "    return_source_documents=True\n",
    ")\n",
    "\n",
    "def ask_question(question: str):\n",
    "    \"\"\"Ask a question and get answer with sources\"\"\"\n",
    "    result = qa_chain({\"query\": question})\n",
    "    \n",
    "    print(f\"Question: {question}\\n\")\n",
    "    print(f\"Answer: {result['result']}\\n\")\n",
    "    print(\"Sources:\")\n",
    "    for doc in result['source_documents']:\n",
    "        print(f\"- Video: {doc.metadata['url']}\")"
   ]
  },
  {
   "cell_type": "code",
   "execution_count": null,
   "metadata": {},
   "source": [
    "# Example question\n",
    "question = \"What are the main topics discussed in these videos?\"\n",
    "ask_question(question)"
   ]
  }
 ],
 "metadata": {
  "kernelspec": {
   "display_name": "Python 3",
   "language": "python",
   "name": "python3"
  },
  "language_info": {
   "codemirror_mode": {
    "name": "ipython",
    "version": 3
   },
   "file_extension": ".py",
   "mimetype": "text/x-python",
   "name": "python",
   "nbconvert_exporter": "python",
   "pygments_lexer": "ipython3",
   "version": "3.8.0"
  }
 },
 "nbformat": 4,
 "nbformat_minor": 4
}
